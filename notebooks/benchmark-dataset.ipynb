{
 "cells": [
  {
   "cell_type": "markdown",
   "metadata": {},
   "source": [
    "Import modules.\n"
   ]
  },
  {
   "cell_type": "code",
   "execution_count": 1,
   "metadata": {},
   "outputs": [],
   "source": [
    "import os\n",
    "import time\n",
    "\n",
    "os.environ[\"TF_CPP_MIN_LOG_LEVEL\"] = \"3\"\n",
    "\n",
    "import tensorflow as tf\n",
    "\n",
    "import chiron\n"
   ]
  },
  {
   "cell_type": "markdown",
   "metadata": {},
   "source": [
    "Disable visibility of all GPU devices.\n"
   ]
  },
  {
   "cell_type": "code",
   "execution_count": 2,
   "metadata": {},
   "outputs": [],
   "source": [
    "chiron.set_visible_gpus()\n"
   ]
  },
  {
   "cell_type": "markdown",
   "metadata": {},
   "source": [
    "Load dataset from TFRecord file.\n"
   ]
  },
  {
   "cell_type": "code",
   "execution_count": 3,
   "metadata": {},
   "outputs": [
    {
     "data": {
      "text/plain": [
       "(TensorSpec(shape=(None, None, None), dtype=tf.float32, name=None),\n",
       " TensorSpec(shape=(), dtype=tf.string, name=None))"
      ]
     },
     "execution_count": 3,
     "metadata": {},
     "output_type": "execute_result"
    }
   ],
   "source": [
    "dataset = chiron.load_tfrecord(\n",
    "    \"../data/brain-tumor-public-dataset/tfrecord/train/fold-1.tfrecord\"\n",
    ")\n",
    "dataset.element_spec\n"
   ]
  },
  {
   "cell_type": "markdown",
   "metadata": {},
   "source": [
    "Define mapping function parameters.\n"
   ]
  },
  {
   "cell_type": "code",
   "execution_count": 4,
   "metadata": {},
   "outputs": [],
   "source": [
    "shuffle_buffer_size = 512\n",
    "seed = 0\n",
    "label_map = {\"meningioma\": 0, \"glioma\": 1, \"pituitary\": 2}\n",
    "num_classes = 3\n",
    "image_size = [224, 224]\n",
    "num_channels = 3\n",
    "batch_size = 32\n"
   ]
  },
  {
   "cell_type": "markdown",
   "metadata": {},
   "source": [
    "Map labels to class indices.\n"
   ]
  },
  {
   "cell_type": "code",
   "execution_count": 5,
   "metadata": {},
   "outputs": [],
   "source": [
    "label_mapper = chiron.LabelMapper(label_map)\n"
   ]
  },
  {
   "cell_type": "markdown",
   "metadata": {},
   "source": [
    "One-hot encode class indices.\n"
   ]
  },
  {
   "cell_type": "code",
   "execution_count": 6,
   "metadata": {},
   "outputs": [],
   "source": [
    "one_hot_encoder = chiron.OneHotEncoder(num_classes)\n"
   ]
  },
  {
   "cell_type": "markdown",
   "metadata": {},
   "source": [
    "Resize images so that they may be batched.\n"
   ]
  },
  {
   "cell_type": "code",
   "execution_count": 7,
   "metadata": {},
   "outputs": [],
   "source": [
    "resizer = chiron.Resizer(image_size)\n"
   ]
  },
  {
   "cell_type": "markdown",
   "metadata": {},
   "source": [
    "Stack images along channels axis.\n"
   ]
  },
  {
   "cell_type": "code",
   "execution_count": 8,
   "metadata": {},
   "outputs": [],
   "source": [
    "repeater = chiron.Repeater(num_channels, axis=2)\n"
   ]
  },
  {
   "cell_type": "markdown",
   "metadata": {},
   "source": [
    "Set image shape.\n"
   ]
  },
  {
   "cell_type": "code",
   "execution_count": 9,
   "metadata": {},
   "outputs": [],
   "source": [
    "shape_setter = chiron.ShapeSetter(image_size + [num_channels])\n"
   ]
  },
  {
   "cell_type": "markdown",
   "metadata": {},
   "source": [
    "Standardize images across batch.\n"
   ]
  },
  {
   "cell_type": "code",
   "execution_count": 10,
   "metadata": {},
   "outputs": [],
   "source": [
    "whitener = chiron.PerBatchStandardWhitener()\n"
   ]
  },
  {
   "cell_type": "markdown",
   "metadata": {},
   "source": [
    "Define naive data preprocessing pipeline.\n"
   ]
  },
  {
   "cell_type": "code",
   "execution_count": 11,
   "metadata": {},
   "outputs": [],
   "source": [
    "dataset_naive = (\n",
    "    dataset.shuffle(shuffle_buffer_size, seed=seed)\n",
    "    .map(label_mapper)\n",
    "    .map(one_hot_encoder)\n",
    "    .map(resizer)\n",
    "    .map(repeater)\n",
    "    .map(shape_setter)\n",
    "    .batch(batch_size)\n",
    "    .map(whitener)\n",
    ")\n"
   ]
  },
  {
   "cell_type": "code",
   "execution_count": 12,
   "metadata": {},
   "outputs": [
    {
     "data": {
      "text/plain": [
       "<TakeDataset shapes: ((None, 224, 224, 3), (None, 3)), types: (tf.float32, tf.float32)>"
      ]
     },
     "execution_count": 12,
     "metadata": {},
     "output_type": "execute_result"
    }
   ],
   "source": [
    "dataset_naive.take(1)\n"
   ]
  },
  {
   "cell_type": "markdown",
   "metadata": {},
   "source": [
    "Define optimized data preprocessing pipeline. Parallelizes data transformations, caches dataset in memory, and prefetches elements.\n"
   ]
  },
  {
   "cell_type": "code",
   "execution_count": 13,
   "metadata": {},
   "outputs": [],
   "source": [
    "dataset_optimized = (\n",
    "    dataset.shuffle(shuffle_buffer_size, seed=seed)\n",
    "    .map(label_mapper, num_parallel_calls=tf.data.AUTOTUNE)\n",
    "    .map(one_hot_encoder, num_parallel_calls=tf.data.AUTOTUNE)\n",
    "    .map(resizer, num_parallel_calls=tf.data.AUTOTUNE)\n",
    "    .map(repeater, num_parallel_calls=tf.data.AUTOTUNE)\n",
    "    .map(shape_setter, num_parallel_calls=tf.data.AUTOTUNE)\n",
    "    .batch(batch_size)\n",
    "    .map(whitener, num_parallel_calls=tf.data.AUTOTUNE)\n",
    "    .cache()\n",
    "    .prefetch(tf.data.AUTOTUNE)\n",
    ")\n"
   ]
  },
  {
   "cell_type": "markdown",
   "metadata": {},
   "source": [
    "Benchmark performance.\n"
   ]
  },
  {
   "cell_type": "code",
   "execution_count": 14,
   "metadata": {},
   "outputs": [
    {
     "name": "stdout",
     "output_type": "stream",
     "text": [
      "Naive: 27.91s\n",
      "Optimized: 5.94s\n",
      "Speedup: x4.70\n"
     ]
    }
   ],
   "source": [
    "# https://www.tensorflow.org/guide/data_performance#the_training_loop\n",
    "\n",
    "def benchmark(dataset):\n",
    "    start_time = time.perf_counter()\n",
    "    for _ in range(5):\n",
    "        for _ in dataset:\n",
    "            time.sleep(0.01)  # Simulate training time\n",
    "    return time.perf_counter() - start_time\n",
    "\n",
    "\n",
    "result_naive = benchmark(dataset_naive)\n",
    "result_optimized = benchmark(dataset_optimized)\n",
    "speedup = result_naive / result_optimized\n",
    "\n",
    "print(f\"Naive: {result_naive:.2f}s\")\n",
    "print(f\"Optimized: {result_optimized:.2f}s\")\n",
    "print(f\"Speedup: x{speedup:.2f}\")\n"
   ]
  }
 ],
 "metadata": {
  "interpreter": {
   "hash": "36fe0e5203bcdfbee24f34f59ae5ed0b9bc8bd80f2463d5e80dd9e7ccd873555"
  },
  "kernelspec": {
   "display_name": "Python 3.9.7 64-bit ('chiron': conda)",
   "language": "python",
   "name": "python3"
  },
  "language_info": {
   "codemirror_mode": {
    "name": "ipython",
    "version": 3
   },
   "file_extension": ".py",
   "mimetype": "text/x-python",
   "name": "python",
   "nbconvert_exporter": "python",
   "pygments_lexer": "ipython3",
   "version": "3.9.7"
  },
  "orig_nbformat": 4
 },
 "nbformat": 4,
 "nbformat_minor": 2
}
