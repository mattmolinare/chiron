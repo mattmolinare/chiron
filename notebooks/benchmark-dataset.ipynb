{
 "cells": [
  {
   "cell_type": "markdown",
   "metadata": {},
   "source": [
    "Import modules.\n"
   ]
  },
  {
   "cell_type": "code",
   "execution_count": null,
   "metadata": {},
   "outputs": [],
   "source": [
    "import os\n",
    "import time\n",
    "\n",
    "os.environ[\"TF_CPP_MIN_LOG_LEVEL\"] = \"3\"\n",
    "\n",
    "import tensorflow as tf\n",
    "\n",
    "import chiron\n"
   ]
  },
  {
   "cell_type": "markdown",
   "metadata": {},
   "source": [
    "Disable visibility of all GPU devices.\n"
   ]
  },
  {
   "cell_type": "code",
   "execution_count": null,
   "metadata": {},
   "outputs": [],
   "source": [
    "chiron.set_visible_gpus()\n"
   ]
  },
  {
   "cell_type": "markdown",
   "metadata": {},
   "source": [
    "Load dataset from TFRecord file.\n"
   ]
  },
  {
   "cell_type": "code",
   "execution_count": null,
   "metadata": {},
   "outputs": [],
   "source": [
    "dataset = chiron.load_tfrecord(\n",
    "    \"../data/brain-tumor-public-dataset/tfrecord/train/fold-1.tfrecord\"\n",
    ")\n",
    "dataset.element_spec\n"
   ]
  },
  {
   "cell_type": "markdown",
   "metadata": {},
   "source": [
    "Define mapping function parameters.\n"
   ]
  },
  {
   "cell_type": "code",
   "execution_count": null,
   "metadata": {},
   "outputs": [],
   "source": [
    "shuffle_buffer_size = 512\n",
    "seed = 0\n",
    "label_map = {\"meningioma\": 0, \"glioma\": 1, \"pituitary\": 2}\n",
    "num_classes = 3\n",
    "image_size = [256, 256]\n",
    "batch_size = 32\n"
   ]
  },
  {
   "cell_type": "markdown",
   "metadata": {},
   "source": [
    "One-hot encode labels.\n"
   ]
  },
  {
   "cell_type": "code",
   "execution_count": null,
   "metadata": {},
   "outputs": [],
   "source": [
    "label_encoder = chiron.LabelEncoder(label_map, num_classes)\n"
   ]
  },
  {
   "cell_type": "markdown",
   "metadata": {},
   "source": [
    "Resize images so they may be batched.\n"
   ]
  },
  {
   "cell_type": "code",
   "execution_count": null,
   "metadata": {},
   "outputs": [],
   "source": [
    "resizer = chiron.Resizer(image_size)\n"
   ]
  },
  {
   "cell_type": "markdown",
   "metadata": {},
   "source": [
    "Standardize images across batch.\n"
   ]
  },
  {
   "cell_type": "code",
   "execution_count": null,
   "metadata": {},
   "outputs": [],
   "source": [
    "whitener = chiron.PerBatchStandardWhitener()\n"
   ]
  },
  {
   "cell_type": "markdown",
   "metadata": {},
   "source": [
    "Define naive data preprocessing pipeline.\n"
   ]
  },
  {
   "cell_type": "code",
   "execution_count": null,
   "metadata": {},
   "outputs": [],
   "source": [
    "dataset_naive = (\n",
    "    dataset.shuffle(shuffle_buffer_size, seed=seed)\n",
    "    .map(label_encoder)\n",
    "    .map(resizer)\n",
    "    .batch(batch_size)\n",
    "    .map(whitener)\n",
    ")\n"
   ]
  },
  {
   "cell_type": "markdown",
   "metadata": {},
   "source": [
    "Define optimized data preprocessing pipeline. Parallelizes data transformations, caches dataset in memory, and prefetches elements.\n"
   ]
  },
  {
   "cell_type": "code",
   "execution_count": null,
   "metadata": {},
   "outputs": [],
   "source": [
    "dataset_optimized = (\n",
    "    dataset.shuffle(shuffle_buffer_size, seed=seed)\n",
    "    .map(label_encoder, num_parallel_calls=tf.data.AUTOTUNE)\n",
    "    .map(resizer, num_parallel_calls=tf.data.AUTOTUNE)\n",
    "    .batch(batch_size)\n",
    "    .map(whitener, num_parallel_calls=tf.data.AUTOTUNE)\n",
    "    .cache()\n",
    "    .prefetch(tf.data.AUTOTUNE)\n",
    ")\n"
   ]
  },
  {
   "cell_type": "markdown",
   "metadata": {},
   "source": [
    "Benchmark performance.\n"
   ]
  },
  {
   "cell_type": "code",
   "execution_count": null,
   "metadata": {},
   "outputs": [],
   "source": [
    "num_repeats = 5\n",
    "interval = 0.01\n",
    "\n",
    "\n",
    "def benchmark(dataset):\n",
    "    start = time.perf_counter()\n",
    "    elapsed = 0.0\n",
    "    for _ in range(num_repeats):\n",
    "        for _ in dataset:\n",
    "            time.sleep(interval)\n",
    "            elapsed += interval\n",
    "    return time.perf_counter() - start - elapsed\n",
    "\n",
    "\n",
    "elapsed_naive = benchmark(dataset_naive)\n",
    "elapsed_optimized = benchmark(dataset_optimized)\n",
    "speed_up = elapsed_naive / elapsed_optimized\n",
    "\n",
    "print(f\"Naive: {elapsed_naive:.2f}s\")\n",
    "print(f\"Optimized: {elapsed_optimized:.2f}s\")\n",
    "print(f\"Speed-up: x{speed_up:.2f}\")\n"
   ]
  }
 ],
 "metadata": {
  "interpreter": {
   "hash": "36fe0e5203bcdfbee24f34f59ae5ed0b9bc8bd80f2463d5e80dd9e7ccd873555"
  },
  "kernelspec": {
   "display_name": "Python 3.9.7 64-bit ('chiron': conda)",
   "language": "python",
   "name": "python3"
  },
  "language_info": {
   "codemirror_mode": {
    "name": "ipython",
    "version": 3
   },
   "file_extension": ".py",
   "mimetype": "text/x-python",
   "name": "python",
   "nbconvert_exporter": "python",
   "pygments_lexer": "ipython3",
   "version": "3.9.7"
  },
  "orig_nbformat": 4
 },
 "nbformat": 4,
 "nbformat_minor": 2
}
