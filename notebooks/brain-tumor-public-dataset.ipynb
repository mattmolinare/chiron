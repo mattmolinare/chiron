{
 "cells": [
  {
   "cell_type": "markdown",
   "metadata": {},
   "source": [
    "Import modules.\n"
   ]
  },
  {
   "cell_type": "code",
   "execution_count": null,
   "metadata": {},
   "outputs": [],
   "source": [
    "import os\n",
    "import re\n",
    "\n",
    "import h5py\n",
    "import numpy as np\n",
    "import pandas as pd\n",
    "\n",
    "import chiron\n"
   ]
  },
  {
   "cell_type": "markdown",
   "metadata": {},
   "source": [
    "Detect and sort `.mat` files.\n"
   ]
  },
  {
   "cell_type": "code",
   "execution_count": null,
   "metadata": {},
   "outputs": [],
   "source": [
    "root_dir = os.path.join(\"..\", \"data\", \"brain-tumor-public-dataset\")\n",
    "mat_dir = os.path.join(root_dir, \"mat\")\n",
    "data = []\n",
    "for dirpath, _, filenames in os.walk(mat_dir):\n",
    "    for filename in filenames:\n",
    "        match = re.match(\"([0-9]+).mat\", filename)\n",
    "        if match:\n",
    "            data.append(\n",
    "                {\n",
    "                    \"image_index\": int(match.group(1)),\n",
    "                    \"path\": os.path.join(dirpath, filename),\n",
    "                }\n",
    "            )\n",
    "df = pd.DataFrame(data)\n",
    "df.sort_values(\"image_index\", inplace=True)\n",
    "df\n"
   ]
  },
  {
   "cell_type": "markdown",
   "metadata": {},
   "source": [
    "Load cross-validation fold index.\n"
   ]
  },
  {
   "cell_type": "code",
   "execution_count": null,
   "metadata": {},
   "outputs": [],
   "source": [
    "with h5py.File(os.path.join(mat_dir, \"cvind.mat\"), \"r\") as f:\n",
    "    df[\"fold_index\"] = f[\"cvind\"][0].astype(int)\n",
    "df\n"
   ]
  },
  {
   "cell_type": "markdown",
   "metadata": {},
   "source": [
    "Make output directories.\n"
   ]
  },
  {
   "cell_type": "code",
   "execution_count": null,
   "metadata": {},
   "outputs": [],
   "source": [
    "tfrecord_dir = os.path.join(root_dir, \"tfrecord\")\n",
    "train_dir = os.path.join(tfrecord_dir, \"train\")\n",
    "val_dir = os.path.join(tfrecord_dir, \"val\")\n",
    "\n",
    "\n",
    "def mkdir(path):\n",
    "    if not os.path.isdir(path):\n",
    "        os.makedirs(path)\n",
    "\n",
    "\n",
    "mkdir(train_dir)\n",
    "mkdir(val_dir)\n"
   ]
  },
  {
   "cell_type": "markdown",
   "metadata": {},
   "source": [
    "Save TFRecord files.\n"
   ]
  },
  {
   "cell_type": "code",
   "execution_count": null,
   "metadata": {},
   "outputs": [],
   "source": [
    "tumor_id_map = {1: \"meningioma\", 2: \"glioma\", 3: \"pituitary\"}\n",
    "\n",
    "\n",
    "def generate(df):\n",
    "    for path in df.path:\n",
    "        with h5py.File(path, \"r\") as f:\n",
    "            group = f[\"cjdata\"]\n",
    "            image = group[\"image\"][()][:, :, np.newaxis].astype(\"float32\")\n",
    "            label = tumor_id_map[int(group[\"label\"][0, 0])]\n",
    "        yield image, label\n",
    "\n",
    "\n",
    "for fold_index in df.fold_index.unique():\n",
    "    cond = df.fold_index == fold_index\n",
    "    df_train = df[~cond]\n",
    "    df_val = df[cond]\n",
    "    gen_train = generate(df_train)\n",
    "    gen_val = generate(df_val)\n",
    "    filename = f\"fold-{fold_index}.tfrecord\"\n",
    "    chiron.save_tfrecord(os.path.join(train_dir, filename), gen_train)\n",
    "    chiron.save_tfrecord(os.path.join(val_dir, filename), gen_val)\n"
   ]
  }
 ],
 "metadata": {
  "interpreter": {
   "hash": "36fe0e5203bcdfbee24f34f59ae5ed0b9bc8bd80f2463d5e80dd9e7ccd873555"
  },
  "kernelspec": {
   "display_name": "Python 3.10.0 64-bit ('chiron': conda)",
   "language": "python",
   "name": "python3"
  },
  "language_info": {
   "codemirror_mode": {
    "name": "ipython",
    "version": 3
   },
   "file_extension": ".py",
   "mimetype": "text/x-python",
   "name": "python",
   "nbconvert_exporter": "python",
   "pygments_lexer": "ipython3",
   "version": "3.9.7"
  },
  "orig_nbformat": 4
 },
 "nbformat": 4,
 "nbformat_minor": 2
}
