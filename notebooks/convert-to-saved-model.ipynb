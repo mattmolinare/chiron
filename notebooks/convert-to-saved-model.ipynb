{
 "cells": [
  {
   "cell_type": "code",
   "execution_count": null,
   "metadata": {},
   "outputs": [],
   "source": [
    "import os\n",
    "\n",
    "os.environ.update({\"TF_CPP_MIN_LOG_LEVEL\": \"3\", \"CUDA_VISIBLE_DEVICES\": \"\"})\n",
    "\n",
    "import chiron\n"
   ]
  },
  {
   "cell_type": "code",
   "execution_count": null,
   "metadata": {},
   "outputs": [],
   "source": [
    "results_dir = \"../results/combined-4-class\"\n",
    "epoch = 10\n",
    "saved_model_path = \"../saved-models/combined-4-class\"\n"
   ]
  },
  {
   "cell_type": "code",
   "execution_count": null,
   "metadata": {},
   "outputs": [],
   "source": [
    "model = chiron.utils.load_model(os.path.join(results_dir, \"model.json\"))\n",
    "model.load_weights(\n",
    "    os.path.join(\n",
    "        results_dir,\n",
    "        \"weights\",\n",
    "        chiron.utils.get_weights_path().format(epoch=epoch),\n",
    "    )\n",
    ")\n",
    "output_dir = os.path.dirname(saved_model_path)\n",
    "if not os.path.isdir(output_dir):\n",
    "    os.makedirs(output_dir)\n",
    "model.save(saved_model_path)\n"
   ]
  }
 ],
 "metadata": {
  "interpreter": {
   "hash": "36fe0e5203bcdfbee24f34f59ae5ed0b9bc8bd80f2463d5e80dd9e7ccd873555"
  },
  "kernelspec": {
   "display_name": "Python 3.9.7 64-bit ('chiron': conda)",
   "language": "python",
   "name": "python3"
  },
  "language_info": {
   "codemirror_mode": {
    "name": "ipython",
    "version": 3
   },
   "file_extension": ".py",
   "mimetype": "text/x-python",
   "name": "python",
   "nbconvert_exporter": "python",
   "pygments_lexer": "ipython3",
   "version": "3.8.12"
  },
  "orig_nbformat": 4
 },
 "nbformat": 4,
 "nbformat_minor": 2
}
