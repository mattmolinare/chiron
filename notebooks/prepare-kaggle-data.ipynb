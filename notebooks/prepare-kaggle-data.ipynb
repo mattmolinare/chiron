{
 "cells": [
  {
   "cell_type": "code",
   "execution_count": 1,
   "metadata": {},
   "outputs": [],
   "source": [
    "import os\n",
    "\n",
    "os.environ.update({\"TF_CPP_MIN_LOG_LEVEL\": \"3\", \"CUDA_VISIBLE_DEVICES\": \"\"})\n",
    "\n",
    "import tensorflow as tf\n",
    "\n",
    "import chiron\n"
   ]
  },
  {
   "cell_type": "code",
   "execution_count": 2,
   "metadata": {},
   "outputs": [
    {
     "name": "stdout",
     "output_type": "stream",
     "text": [
      "Found 5712 files belonging to 4 classes.\n",
      "Found 1311 files belonging to 4 classes.\n"
     ]
    }
   ],
   "source": [
    "def get_dataset(folder):\n",
    "    return tf.keras.preprocessing.image_dataset_from_directory(\n",
    "        os.path.join(\"..\", \"data\", \"kaggle\", folder),\n",
    "        color_mode=\"grayscale\",\n",
    "        image_size=(224, 224),\n",
    "        seed=0,\n",
    "    )\n",
    "\n",
    "\n",
    "train_dataset = get_dataset(\"Training\")\n",
    "val_dataset = get_dataset(\"Testing\")\n",
    "\n",
    "\n",
    "def generate(dataset):\n",
    "    for images, labels in dataset:\n",
    "        for image, label in zip(images, labels):\n",
    "            yield image.numpy(), dataset.class_names[label.numpy()]\n",
    "\n",
    "\n",
    "output_dir = os.path.join(\"..\", \"tfrecord\", \"kaggle\")\n",
    "if not os.path.isdir(output_dir):\n",
    "    os.makedirs(output_dir)\n",
    "chiron.tfrecord.save_tfrecord(\n",
    "    os.path.join(output_dir, \"train.tfrecord\"), generate(train_dataset)\n",
    ")\n",
    "chiron.tfrecord.save_tfrecord(\n",
    "    os.path.join(output_dir, \"val.tfrecord\"), generate(val_dataset)\n",
    ")\n"
   ]
  }
 ],
 "metadata": {
  "interpreter": {
   "hash": "36fe0e5203bcdfbee24f34f59ae5ed0b9bc8bd80f2463d5e80dd9e7ccd873555"
  },
  "kernelspec": {
   "display_name": "Python 3.10.0 64-bit ('chiron': conda)",
   "language": "python",
   "name": "python3"
  },
  "language_info": {
   "codemirror_mode": {
    "name": "ipython",
    "version": 3
   },
   "file_extension": ".py",
   "mimetype": "text/x-python",
   "name": "python",
   "nbconvert_exporter": "python",
   "pygments_lexer": "ipython3",
   "version": "3.8.12"
  },
  "orig_nbformat": 4
 },
 "nbformat": 4,
 "nbformat_minor": 2
}
