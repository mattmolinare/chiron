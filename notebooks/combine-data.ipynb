{
 "cells": [
  {
   "cell_type": "code",
   "execution_count": null,
   "metadata": {},
   "outputs": [],
   "source": [
    "import os\n",
    "\n",
    "os.environ.update({\"TF_CPP_MIN_LOG_LEVEL\": \"3\", \"CUDA_VISIBLE_DEVICES\": \"\"})\n",
    "\n",
    "import tensorflow as tf\n",
    "\n",
    "import chiron\n"
   ]
  },
  {
   "cell_type": "code",
   "execution_count": null,
   "metadata": {},
   "outputs": [],
   "source": [
    "def load_kaggle(filename):\n",
    "    return (\n",
    "        chiron.tfrecord.load_tfrecord(\n",
    "            os.path.join(\"..\", \"tfrecord\", \"kaggle\", filename)\n",
    "        )\n",
    "        .filter(lambda _, label: label == \"notumor\")\n",
    "        .map(chiron.preprocessing.MinMaxScaler())\n",
    "    )\n",
    "\n",
    "\n",
    "kaggle_train = load_kaggle(\"train.tfrecord\")\n",
    "kaggle_val = load_kaggle(\"val.tfrecord\")\n"
   ]
  },
  {
   "cell_type": "code",
   "execution_count": null,
   "metadata": {},
   "outputs": [],
   "source": [
    "def load_cheng_et_al(filename):\n",
    "    return (\n",
    "        chiron.tfrecord.load_tfrecord(\n",
    "            os.path.join(\"..\", \"tfrecord\", \"cheng-et-al\", \"fold-1\", filename)\n",
    "        )\n",
    "        .map(chiron.preprocessing.MinMaxScaler())\n",
    "        .map(chiron.preprocessing.ConvertImageDtype(tf.uint8))\n",
    "        .map(chiron.preprocessing.ConvertImageDtype(tf.float32))\n",
    "    )\n",
    "\n",
    "\n",
    "cheng_et_al_train = load_cheng_et_al(\"train.tfrecord\")\n",
    "cheng_et_al_val = load_cheng_et_al(\"val.tfrecord\")\n"
   ]
  },
  {
   "cell_type": "code",
   "execution_count": null,
   "metadata": {},
   "outputs": [],
   "source": [
    "def get_length(dataset):\n",
    "    i = 0\n",
    "    for _ in dataset:\n",
    "        i += 1\n",
    "    return i\n",
    "\n",
    "\n",
    "kaggle_length = get_length(kaggle_train)\n",
    "cheng_et_al_length = get_length(cheng_et_al_train)\n",
    "\n",
    "combined_length = kaggle_length + cheng_et_al_length\n"
   ]
  },
  {
   "cell_type": "code",
   "execution_count": null,
   "metadata": {},
   "outputs": [],
   "source": [
    "combined_train = tf.data.experimental.sample_from_datasets(\n",
    "    [kaggle_train, cheng_et_al_train],\n",
    "    weights=[\n",
    "        kaggle_length / combined_length,\n",
    "        cheng_et_al_length / combined_length,\n",
    "    ],\n",
    ")\n"
   ]
  },
  {
   "cell_type": "code",
   "execution_count": null,
   "metadata": {},
   "outputs": [],
   "source": [
    "combined_val = kaggle_val.concatenate(cheng_et_al_val)\n"
   ]
  },
  {
   "cell_type": "code",
   "execution_count": null,
   "metadata": {},
   "outputs": [],
   "source": [
    "def generate(dataset):\n",
    "    for image, label in dataset:\n",
    "        yield image.numpy(), label.numpy().decode()\n",
    "\n",
    "\n",
    "output_dir = os.path.join(\"..\", \"tfrecord\", \"combined\")\n",
    "\n",
    "if not os.path.isdir(output_dir):\n",
    "    os.makedirs(output_dir)\n",
    "\n",
    "chiron.tfrecord.save_tfrecord(\n",
    "    os.path.join(output_dir, \"train.tfrecord\"), generate(combined_train)\n",
    ")\n",
    "chiron.tfrecord.save_tfrecord(\n",
    "    os.path.join(output_dir, \"val.tfrecord\"), generate(combined_val)\n",
    ")\n"
   ]
  }
 ],
 "metadata": {
  "interpreter": {
   "hash": "36fe0e5203bcdfbee24f34f59ae5ed0b9bc8bd80f2463d5e80dd9e7ccd873555"
  },
  "kernelspec": {
   "display_name": "Python 3.9.7 64-bit ('chiron': conda)",
   "language": "python",
   "name": "python3"
  },
  "language_info": {
   "codemirror_mode": {
    "name": "ipython",
    "version": 3
   },
   "file_extension": ".py",
   "mimetype": "text/x-python",
   "name": "python",
   "nbconvert_exporter": "python",
   "pygments_lexer": "ipython3",
   "version": "3.8.12"
  },
  "orig_nbformat": 4
 },
 "nbformat": 4,
 "nbformat_minor": 2
}
