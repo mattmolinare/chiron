{
 "cells": [
  {
   "cell_type": "code",
   "execution_count": null,
   "metadata": {},
   "outputs": [],
   "source": [
    "import os\n",
    "\n",
    "os.environ.update({\"TF_CPP_MIN_LOG_LEVEL\": \"3\", \"CUDA_VISIBLE_DEVICES\": \"\"})\n",
    "\n",
    "import numpy as np\n",
    "import sklearn.metrics\n",
    "import tensorflow as tf\n",
    "\n",
    "import chiron\n"
   ]
  },
  {
   "cell_type": "code",
   "execution_count": null,
   "metadata": {},
   "outputs": [],
   "source": [
    "results_dir = \"../results/combined-4-class\"\n",
    "epoch = 10\n"
   ]
  },
  {
   "cell_type": "code",
   "execution_count": null,
   "metadata": {},
   "outputs": [],
   "source": [
    "model = chiron.utils.load_model(os.path.join(results_dir, \"model.json\"))\n",
    "model.load_weights(\n",
    "    os.path.join(\n",
    "        results_dir,\n",
    "        \"weights\",\n",
    "        chiron.utils.get_weights_path().format(epoch=epoch),\n",
    "    )\n",
    ")\n",
    "config = chiron.utils.load_yaml(os.path.join(results_dir, \"config.yaml\"))\n",
    "image_size = tf.TensorShape(config[\"image_size\"])\n",
    "model.build([None] + image_size + [3])\n",
    "model.summary()\n"
   ]
  },
  {
   "cell_type": "code",
   "execution_count": null,
   "metadata": {},
   "outputs": [],
   "source": [
    "tfrecord_file = \"../tfrecord/combined/val.tfrecord\"\n",
    "batch_size = 32\n",
    "\n",
    "dataset = (\n",
    "    chiron.tfrecord.load_tfrecord(tfrecord_file)\n",
    "    .map(chiron.preprocessing.LabelMapper(config[\"label_map\"]))\n",
    "    .map(chiron.preprocessing.Resizer(image_size))\n",
    "    .batch(batch_size)\n",
    "    .map(chiron.preprocessing.PerImageStandardizer())\n",
    "    .map(chiron.preprocessing.GrayscaleToRgb())\n",
    ")\n",
    "\n",
    "y_true = []\n",
    "y_score = []\n",
    "for images, labels in dataset:\n",
    "    y_true.append(tf.one_hot(labels, config[\"num_classes\"]).numpy())\n",
    "    y_score.append(tf.nn.softmax(model(images, training=False)).numpy())\n",
    "y_true = np.vstack(y_true)\n",
    "y_score = np.vstack(y_score)\n"
   ]
  },
  {
   "cell_type": "code",
   "execution_count": null,
   "metadata": {},
   "outputs": [],
   "source": [
    "sklearn.metrics.average_precision_score(y_true, y_score, average=None)\n"
   ]
  },
  {
   "cell_type": "code",
   "execution_count": null,
   "metadata": {},
   "outputs": [],
   "source": [
    "sklearn.metrics.roc_auc_score(y_true, y_score, average=None)\n"
   ]
  },
  {
   "cell_type": "code",
   "execution_count": null,
   "metadata": {},
   "outputs": [],
   "source": [
    "cm = sklearn.metrics.confusion_matrix(\n",
    "    y_true.argmax(axis=1), y_score.argmax(axis=1)\n",
    ")\n",
    "cm\n"
   ]
  },
  {
   "cell_type": "code",
   "execution_count": null,
   "metadata": {},
   "outputs": [],
   "source": [
    "cm.diagonal() / cm.sum(axis=1)\n"
   ]
  },
  {
   "cell_type": "code",
   "execution_count": null,
   "metadata": {},
   "outputs": [],
   "source": []
  }
 ],
 "metadata": {
  "interpreter": {
   "hash": "36fe0e5203bcdfbee24f34f59ae5ed0b9bc8bd80f2463d5e80dd9e7ccd873555"
  },
  "kernelspec": {
   "display_name": "Python 3.9.7 64-bit ('chiron': conda)",
   "language": "python",
   "name": "python3"
  },
  "language_info": {
   "codemirror_mode": {
    "name": "ipython",
    "version": 3
   },
   "file_extension": ".py",
   "mimetype": "text/x-python",
   "name": "python",
   "nbconvert_exporter": "python",
   "pygments_lexer": "ipython3",
   "version": "3.8.12"
  },
  "orig_nbformat": 4
 },
 "nbformat": 4,
 "nbformat_minor": 2
}
