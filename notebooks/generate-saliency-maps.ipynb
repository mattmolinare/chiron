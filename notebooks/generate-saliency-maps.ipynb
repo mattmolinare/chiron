{
 "cells": [
  {
   "cell_type": "code",
   "execution_count": null,
   "metadata": {},
   "outputs": [],
   "source": [
    "import os\n",
    "\n",
    "os.environ.update({\"TF_CPP_MIN_LOG_LEVEL\": \"3\", \"CUDA_VISIBLE_DEVICES\": \"\"})\n",
    "\n",
    "import numpy as np\n",
    "import tensorflow as tf\n",
    "from matplotlib.cm import get_cmap\n",
    "from PIL import Image\n",
    "from scipy.ndimage import gaussian_filter\n",
    "\n",
    "import chiron\n"
   ]
  },
  {
   "cell_type": "code",
   "execution_count": null,
   "metadata": {},
   "outputs": [],
   "source": [
    "results_dir = \"../results/combined-4-class\"\n",
    "epoch = 10\n",
    "tfrecord_file = \"../tfrecord/cheng-et-al/fold-1/val.tfrecord\"\n",
    "batch_size = 32\n"
   ]
  },
  {
   "cell_type": "code",
   "execution_count": null,
   "metadata": {},
   "outputs": [],
   "source": [
    "model = chiron.utils.load_model(os.path.join(results_dir, \"model.json\"))\n",
    "model.load_weights(\n",
    "    os.path.join(\n",
    "        results_dir,\n",
    "        \"weights\",\n",
    "        chiron.utils.get_weights_path().format(epoch=epoch),\n",
    "    )\n",
    ")\n",
    "config = chiron.utils.load_yaml(os.path.join(results_dir, \"config.yaml\"))\n",
    "image_size = tf.TensorShape(config[\"image_size\"])\n",
    "model.build([None] + image_size + [3])\n",
    "model.summary()\n"
   ]
  },
  {
   "cell_type": "code",
   "execution_count": null,
   "metadata": {},
   "outputs": [],
   "source": [
    "dataset = (\n",
    "    chiron.tfrecord.load_tfrecord(tfrecord_file)\n",
    "    .map(chiron.preprocessing.Resizer(image_size))\n",
    "    .batch(batch_size)\n",
    "    .map(chiron.preprocessing.PerImageStandardizer())\n",
    "    .map(chiron.preprocessing.GrayscaleToRgb())\n",
    ")\n",
    "\n",
    "\n",
    "def generate():\n",
    "    for images, _ in dataset:\n",
    "        with tf.GradientTape() as tape:\n",
    "            tape.watch(images)\n",
    "            scores = tf.nn.softmax(model(images, training=False))\n",
    "            losses = tf.reduce_max(scores, axis=1)\n",
    "        gradients = tape.gradient(losses, images)\n",
    "        s_maps = tf.reduce_max(gradients, axis=3)\n",
    "        yield from zip(images.numpy(), s_maps.numpy())\n",
    "\n",
    "\n",
    "gen = generate()\n"
   ]
  },
  {
   "cell_type": "code",
   "execution_count": null,
   "metadata": {},
   "outputs": [],
   "source": [
    "image, s_map = next(gen)\n",
    "\n",
    "image = image - image.min()\n",
    "image *= 255 / image.max()\n",
    "image = image.astype(np.uint8)\n",
    "image = Image.fromarray(image)\n",
    "\n",
    "s_map = gaussian_filter(s_map, 5)\n",
    "threshold = np.percentile(s_map, 95)\n",
    "s_map = np.ma.masked_less(s_map, threshold, copy=False)\n",
    "s_map -= s_map.min()\n",
    "s_map *= 1 / s_map.max()\n",
    "s_map = get_cmap(\"jet\")(s_map, alpha=0.5)\n",
    "s_map *= 255\n",
    "s_map = s_map.astype(np.uint8)\n",
    "s_map = Image.fromarray(s_map)\n",
    "s_map\n",
    "\n",
    "Image.alpha_composite(image.convert('RGBA'), s_map)\n"
   ]
  }
 ],
 "metadata": {
  "interpreter": {
   "hash": "36fe0e5203bcdfbee24f34f59ae5ed0b9bc8bd80f2463d5e80dd9e7ccd873555"
  },
  "kernelspec": {
   "display_name": "Python 3.9.7 64-bit ('chiron': conda)",
   "language": "python",
   "name": "python3"
  },
  "language_info": {
   "codemirror_mode": {
    "name": "ipython",
    "version": 3
   },
   "file_extension": ".py",
   "mimetype": "text/x-python",
   "name": "python",
   "nbconvert_exporter": "python",
   "pygments_lexer": "ipython3",
   "version": "3.8.12"
  },
  "orig_nbformat": 4
 },
 "nbformat": 4,
 "nbformat_minor": 2
}
