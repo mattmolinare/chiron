{
 "cells": [
  {
   "cell_type": "code",
   "execution_count": 1,
   "metadata": {},
   "outputs": [],
   "source": [
    "import os\n",
    "\n",
    "os.environ.update({\"TF_CPP_MIN_LOG_LEVEL\": \"3\", \"CUDA_VISIBLE_DEVICES\": \"\"})\n",
    "\n",
    "import time\n",
    "\n",
    "import tensorflow as tf\n",
    "\n",
    "import chiron\n"
   ]
  },
  {
   "cell_type": "code",
   "execution_count": 2,
   "metadata": {},
   "outputs": [
    {
     "data": {
      "text/plain": [
       "(TensorSpec(shape=(None, None, None), dtype=tf.float32, name=None),\n",
       " TensorSpec(shape=(), dtype=tf.string, name=None))"
      ]
     },
     "execution_count": 2,
     "metadata": {},
     "output_type": "execute_result"
    }
   ],
   "source": [
    "dataset = chiron.tfrecord.load_tfrecord(\"../tfrecord/combined/train.tfrecord\")\n",
    "dataset.element_spec\n"
   ]
  },
  {
   "cell_type": "code",
   "execution_count": 3,
   "metadata": {},
   "outputs": [],
   "source": [
    "label_map = {\"meningioma\": 0, \"glioma\": 0, \"pituitary\": 0, \"notumor\": 1}\n",
    "image_size = [224, 224]\n",
    "batch_size = 32\n",
    "\n",
    "label_mapper = chiron.preprocessing.LabelMapper(label_map)\n",
    "resizer = chiron.preprocessing.Resizer(image_size)\n",
    "standardizer = chiron.preprocessing.PerImageStandardizer()\n",
    "grayscale_to_rgb = chiron.preprocessing.GrayscaleToRgb()\n"
   ]
  },
  {
   "cell_type": "code",
   "execution_count": 4,
   "metadata": {},
   "outputs": [
    {
     "name": "stdout",
     "output_type": "stream",
     "text": [
      "10.383399900048971\n"
     ]
    }
   ],
   "source": [
    "def benchmark(dataset):\n",
    "    start_time = time.perf_counter()\n",
    "    for _ in range(2):\n",
    "        for _ in dataset:\n",
    "            time.sleep(0.01)\n",
    "    print(time.perf_counter() - start_time)\n",
    "\n",
    "\n",
    "benchmark(\n",
    "    dataset.map(label_mapper)\n",
    "    .map(resizer)\n",
    "    .batch(batch_size)\n",
    "    .map(standardizer)\n",
    "    .map(grayscale_to_rgb)\n",
    ")\n"
   ]
  },
  {
   "cell_type": "code",
   "execution_count": 5,
   "metadata": {},
   "outputs": [
    {
     "name": "stdout",
     "output_type": "stream",
     "text": [
      "3.443941699981224\n"
     ]
    }
   ],
   "source": [
    "benchmark(\n",
    "    dataset.map(label_mapper, num_parallel_calls=tf.data.AUTOTUNE)\n",
    "    .map(resizer, num_parallel_calls=tf.data.AUTOTUNE)\n",
    "    .batch(batch_size)\n",
    "    .map(standardizer, num_parallel_calls=tf.data.AUTOTUNE)\n",
    "    .map(grayscale_to_rgb, num_parallel_calls=tf.data.AUTOTUNE)\n",
    "    .cache()\n",
    "    .prefetch(tf.data.AUTOTUNE)\n",
    ")\n"
   ]
  }
 ],
 "metadata": {
  "interpreter": {
   "hash": "36fe0e5203bcdfbee24f34f59ae5ed0b9bc8bd80f2463d5e80dd9e7ccd873555"
  },
  "kernelspec": {
   "display_name": "Python 3.9.7 64-bit ('chiron': conda)",
   "language": "python",
   "name": "python3"
  },
  "language_info": {
   "codemirror_mode": {
    "name": "ipython",
    "version": 3
   },
   "file_extension": ".py",
   "mimetype": "text/x-python",
   "name": "python",
   "nbconvert_exporter": "python",
   "pygments_lexer": "ipython3",
   "version": "3.8.12"
  },
  "orig_nbformat": 4
 },
 "nbformat": 4,
 "nbformat_minor": 2
}
